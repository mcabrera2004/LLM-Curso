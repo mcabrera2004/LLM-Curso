{
 "cells": [
  {
   "cell_type": "code",
   "execution_count": 2,
   "id": "ea4809f0-4980-4d56-95b4-c884118cecc0",
   "metadata": {},
   "outputs": [],
   "source": [
    "import openai\n",
    "import os"
   ]
  },
  {
   "cell_type": "code",
   "execution_count": 3,
   "id": "f5c2dc03-9dab-48e7-8ffd-16578aeacf18",
   "metadata": {},
   "outputs": [],
   "source": [
    "from openai import OpenAI"
   ]
  },
  {
   "cell_type": "code",
   "execution_count": 4,
   "id": "574012c2-66ae-4a1c-851f-c6b8c4098858",
   "metadata": {},
   "outputs": [],
   "source": [
    "api_key = os.getenv(\"OPENAI_API_KEY\")"
   ]
  },
  {
   "cell_type": "code",
   "execution_count": null,
   "id": "41f6a4f6-b209-4fc0-8231-a8e03c28f20c",
   "metadata": {},
   "outputs": [],
   "source": [
    "system_response = '''Hacé de cuenta que sos un profesor de historia\n",
    "                encargado de mantener una conversación formal con el que\n",
    "                te pregunta. Responde en 25 palabras o menos.'''"
   ]
  },
  {
   "cell_type": "code",
   "execution_count": null,
   "id": "8f65cc9d-59ff-4ae6-be62-a936dce47595",
   "metadata": {},
   "outputs": [],
   "source": [
    "def obtener_respuesta(mensajes):\n",
    "    response = openai.chat.completions.create(\n",
    "        model=\"gpt-4o\", \n",
    "        messages=mensajes,\n",
    "        max_tokens = 100\n",
    "    )\n",
    "    respuesta = response.choices[0].message.content\n",
    "    return respuesta"
   ]
  },
  {
   "cell_type": "code",
   "execution_count": null,
   "id": "0a9ad493-bf75-447a-93c8-df1853b52cc7",
   "metadata": {},
   "outputs": [],
   "source": [
    "mensajes = [{\"role\": \"system\", \"content\": system_response}]\n",
    "\n",
    "while True:\n",
    "    mensaje = input(\"Usuario: \")\n",
    "    mensajes.append({\"role\": \"user\", \"content\": mensaje})\n",
    "    if mensaje == \"-1\":\n",
    "        break\n",
    "    respuesta_ia = obtener_respuesta(mensajes)\n",
    "    print(\"Bot:\", respuesta_ia)\n",
    "    mensajes.append({\"role\": \"assistant\", \"content\": respuesta_ia})"
   ]
  },
  {
   "cell_type": "code",
   "execution_count": null,
   "id": "45385d29-edbd-40c6-a20e-0e38cddf77cc",
   "metadata": {},
   "outputs": [],
   "source": []
  }
 ],
 "metadata": {
  "kernelspec": {
   "display_name": "Python 3 (ipykernel)",
   "language": "python",
   "name": "python3"
  },
  "language_info": {
   "codemirror_mode": {
    "name": "ipython",
    "version": 3
   },
   "file_extension": ".py",
   "mimetype": "text/x-python",
   "name": "python",
   "nbconvert_exporter": "python",
   "pygments_lexer": "ipython3",
   "version": "3.12.1"
  }
 },
 "nbformat": 4,
 "nbformat_minor": 5
}
